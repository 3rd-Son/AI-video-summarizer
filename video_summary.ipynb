{
 "cells": [
  {
   "cell_type": "markdown",
   "metadata": {},
   "source": [
    "## Import the necessary libraries, "
   ]
  },
  {
   "cell_type": "code",
   "execution_count": 46,
   "metadata": {},
   "outputs": [],
   "source": [
    "import os\n",
    "from moviepy.editor import VideoFileClip\n",
    "from langchain.llms import OpenAI\n",
    "from dotenv import load_dotenv\n",
    "import tempfile\n",
    "import assemblyai as aai\n",
    "from langchain_core.messages import HumanMessage\n",
    "from langchain_openai import ChatOpenAI"
   ]
  },
  {
   "cell_type": "code",
   "execution_count": 35,
   "metadata": {},
   "outputs": [],
   "source": [
    "load_dotenv()\n",
    "OPENAI_API_KEY = os.environ.get(\"OPENAI_API_KEY\")\n",
    "aai.settings.api_key = os.getenv(\"ASSEMBLYAI_API_KEY\")"
   ]
  },
  {
   "cell_type": "code",
   "execution_count": 44,
   "metadata": {},
   "outputs": [],
   "source": [
    "llm = ChatOpenAI()"
   ]
  },
  {
   "cell_type": "code",
   "execution_count": 22,
   "metadata": {},
   "outputs": [],
   "source": [
    "# Function to extract audio from a video\n",
    "def extract_audio_from_video(video_path):\n",
    "    with VideoFileClip(video_path) as video:\n",
    "        temp_audio_file = tempfile.NamedTemporaryFile(suffix='.wav', delete=False)\n",
    "        video.audio.write_audiofile(temp_audio_file.name)\n",
    "        return temp_audio_file.name"
   ]
  },
  {
   "cell_type": "code",
   "execution_count": 23,
   "metadata": {},
   "outputs": [],
   "source": [
    "# Function to transcribe audio using AssemblyAI\n",
    "def transcribe_audio_assemblyai(audio_path):\n",
    "    transcriber = aai.Transcriber()\n",
    "    transcription = transcriber.transcribe(audio_path)\n",
    "    return transcription.text  "
   ]
  },
  {
   "cell_type": "code",
   "execution_count": 69,
   "metadata": {},
   "outputs": [],
   "source": [
    "def summarize_with_openai(text: str):\n",
    "    messages = [\n",
    "        (\"system\", \"You are a helpful assistant that summarizes text.\"),\n",
    "        (\"human\", f\"Summarize the following text concisely:\\n\\n{text}\"),\n",
    "    ]\n",
    "    return llm.invoke(messages).content"
   ]
  },
  {
   "cell_type": "code",
   "execution_count": 71,
   "metadata": {},
   "outputs": [],
   "source": [
    "def process_video_to_summary(video_path):\n",
    "    # Extract audio from video\n",
    "    print(\"Extracting audio from video...\")\n",
    "    audio_path = extract_audio_from_video(video_path)\n",
    "\n",
    "    # Transcribe audio\n",
    "    print(\"Transcribing audio...\")\n",
    "    transcription = transcribe_audio_assemblyai(audio_path)\n",
    "\n",
    "    # Summarize transcription\n",
    "    print(\"Summarizing transcription...\")\n",
    "    summary = summarize_with_openai(transcription)\n",
    "    \n",
    "    print(\"---------------------------------------------\")\n",
    "\n",
    "    return summary"
   ]
  },
  {
   "cell_type": "code",
   "execution_count": 72,
   "metadata": {},
   "outputs": [
    {
     "name": "stdout",
     "output_type": "stream",
     "text": [
      "Extracting audio from video...\n",
      "MoviePy - Writing audio in /var/folders/8j/5mg1hqbx0rxgbv5q60g_dhhc0000gn/T/tmplbudzxxn.wav\n"
     ]
    },
    {
     "name": "stderr",
     "output_type": "stream",
     "text": [
      "                                                                   \r"
     ]
    },
    {
     "name": "stdout",
     "output_type": "stream",
     "text": [
      "MoviePy - Done.\n",
      "Transcribing audio...\n",
      "Summarizing transcription...\n",
      "---------------------------------------------\n",
      "The text introduces a video tutorial on scheduling and automating Python scripts to run at different intervals such as every minute, every five minutes, and every hour.\n"
     ]
    }
   ],
   "source": [
    "summarize_video = process_video_to_summary('/Users/appleplay/Desktop/video summary/text_video.mp4')\n",
    "print(summarize_video)"
   ]
  },
  {
   "cell_type": "code",
   "execution_count": null,
   "metadata": {},
   "outputs": [],
   "source": []
  }
 ],
 "metadata": {
  "kernelspec": {
   "display_name": "Python 3",
   "language": "python",
   "name": "python3"
  },
  "language_info": {
   "codemirror_mode": {
    "name": "ipython",
    "version": 3
   },
   "file_extension": ".py",
   "mimetype": "text/x-python",
   "name": "python",
   "nbconvert_exporter": "python",
   "pygments_lexer": "ipython3",
   "version": "3.10.9"
  }
 },
 "nbformat": 4,
 "nbformat_minor": 2
}
